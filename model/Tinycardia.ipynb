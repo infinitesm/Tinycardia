{
 "cells": [
  {
   "cell_type": "markdown",
   "id": "NfggGA6iZwPl",
   "metadata": {
    "id": "NfggGA6iZwPl"
   },
   "source": [
    "# Tinycardia: Lightweight Cardiac Emergency Diagnosis on Microcontroller (STM32)\n",
    "\n",
    "Tinycardia aims to detect atrial fibrillation (AFib) from ECG signals using machine learning models small enough to run on resource-constrained microcontrollers like the STM32. By combining high-quality ECG data from the PTB-XL dataset with smart preprocessing and efficient model design, Tinycardia brings reliable heart rhythm monitoring to low-power wearable and portable devices.\n",
    "\n"
   ]
  },
  {
   "cell_type": "markdown",
   "id": "j4bAGbMSeQ40",
   "metadata": {
    "id": "j4bAGbMSeQ40"
   },
   "source": [
    "# Part 1: Loading the Dataset\n",
    "\n",
    "Tinycardia uses the PTB-XL dataset, one of the best open ECG collections out there, with over 21,000 recordings from real patients. Tinycardia focuses on classifying sinus rhythms versus atrial fibrillation. PTB-XL is perfect since it  contains high-quality signals, detailed labels, and a wide variety of patient data to train on."
   ]
  },
  {
   "cell_type": "code",
   "execution_count": null,
   "id": "MbZFRY1rPdzT",
   "metadata": {
    "colab": {
     "base_uri": "https://localhost:8080/"
    },
    "collapsed": true,
    "executionInfo": {
     "elapsed": 11944,
     "status": "ok",
     "timestamp": 1752541121648,
     "user": {
      "displayName": "Kyle Dudley",
      "userId": "05310552864591791788"
     },
     "user_tz": 300
    },
    "id": "MbZFRY1rPdzT",
    "outputId": "383677a6-1756-48dc-93ed-3a1dae083355"
   },
   "outputs": [
    {
     "name": "stdout",
     "output_type": "stream",
     "text": [
      "Collecting wfdb\n",
      "  Downloading wfdb-4.3.0-py3-none-any.whl.metadata (3.8 kB)\n",
      "Requirement already satisfied: aiohttp>=3.10.11 in /usr/local/lib/python3.11/dist-packages (from wfdb) (3.11.15)\n",
      "Requirement already satisfied: fsspec>=2023.10.0 in /usr/local/lib/python3.11/dist-packages (from wfdb) (2025.3.2)\n",
      "Requirement already satisfied: matplotlib>=3.2.2 in /usr/local/lib/python3.11/dist-packages (from wfdb) (3.10.0)\n",
      "Requirement already satisfied: numpy>=1.26.4 in /usr/local/lib/python3.11/dist-packages (from wfdb) (2.0.2)\n",
      "Collecting pandas>=2.2.3 (from wfdb)\n",
      "  Downloading pandas-2.3.1-cp311-cp311-manylinux_2_17_x86_64.manylinux2014_x86_64.whl.metadata (91 kB)\n",
      "\u001b[2K     \u001b[90m━━━━━━━━━━━━━━━━━━━━━━━━━━━━━━━━━━━━━━━━\u001b[0m \u001b[32m91.2/91.2 kB\u001b[0m \u001b[31m7.7 MB/s\u001b[0m eta \u001b[36m0:00:00\u001b[0m\n",
      "\u001b[?25hRequirement already satisfied: requests>=2.8.1 in /usr/local/lib/python3.11/dist-packages (from wfdb) (2.32.3)\n",
      "Requirement already satisfied: scipy>=1.13.0 in /usr/local/lib/python3.11/dist-packages (from wfdb) (1.15.3)\n",
      "Requirement already satisfied: soundfile>=0.10.0 in /usr/local/lib/python3.11/dist-packages (from wfdb) (0.13.1)\n",
      "Requirement already satisfied: aiohappyeyeballs>=2.3.0 in /usr/local/lib/python3.11/dist-packages (from aiohttp>=3.10.11->wfdb) (2.6.1)\n",
      "Requirement already satisfied: aiosignal>=1.1.2 in /usr/local/lib/python3.11/dist-packages (from aiohttp>=3.10.11->wfdb) (1.4.0)\n",
      "Requirement already satisfied: attrs>=17.3.0 in /usr/local/lib/python3.11/dist-packages (from aiohttp>=3.10.11->wfdb) (25.3.0)\n",
      "Requirement already satisfied: frozenlist>=1.1.1 in /usr/local/lib/python3.11/dist-packages (from aiohttp>=3.10.11->wfdb) (1.7.0)\n",
      "Requirement already satisfied: multidict<7.0,>=4.5 in /usr/local/lib/python3.11/dist-packages (from aiohttp>=3.10.11->wfdb) (6.6.3)\n",
      "Requirement already satisfied: propcache>=0.2.0 in /usr/local/lib/python3.11/dist-packages (from aiohttp>=3.10.11->wfdb) (0.3.2)\n",
      "Requirement already satisfied: yarl<2.0,>=1.17.0 in /usr/local/lib/python3.11/dist-packages (from aiohttp>=3.10.11->wfdb) (1.20.1)\n",
      "Requirement already satisfied: contourpy>=1.0.1 in /usr/local/lib/python3.11/dist-packages (from matplotlib>=3.2.2->wfdb) (1.3.2)\n",
      "Requirement already satisfied: cycler>=0.10 in /usr/local/lib/python3.11/dist-packages (from matplotlib>=3.2.2->wfdb) (0.12.1)\n",
      "Requirement already satisfied: fonttools>=4.22.0 in /usr/local/lib/python3.11/dist-packages (from matplotlib>=3.2.2->wfdb) (4.58.5)\n",
      "Requirement already satisfied: kiwisolver>=1.3.1 in /usr/local/lib/python3.11/dist-packages (from matplotlib>=3.2.2->wfdb) (1.4.8)\n",
      "Requirement already satisfied: packaging>=20.0 in /usr/local/lib/python3.11/dist-packages (from matplotlib>=3.2.2->wfdb) (24.2)\n",
      "Requirement already satisfied: pillow>=8 in /usr/local/lib/python3.11/dist-packages (from matplotlib>=3.2.2->wfdb) (11.2.1)\n",
      "Requirement already satisfied: pyparsing>=2.3.1 in /usr/local/lib/python3.11/dist-packages (from matplotlib>=3.2.2->wfdb) (3.2.3)\n",
      "Requirement already satisfied: python-dateutil>=2.7 in /usr/local/lib/python3.11/dist-packages (from matplotlib>=3.2.2->wfdb) (2.9.0.post0)\n",
      "Requirement already satisfied: pytz>=2020.1 in /usr/local/lib/python3.11/dist-packages (from pandas>=2.2.3->wfdb) (2025.2)\n",
      "Requirement already satisfied: tzdata>=2022.7 in /usr/local/lib/python3.11/dist-packages (from pandas>=2.2.3->wfdb) (2025.2)\n",
      "Requirement already satisfied: charset-normalizer<4,>=2 in /usr/local/lib/python3.11/dist-packages (from requests>=2.8.1->wfdb) (3.4.2)\n",
      "Requirement already satisfied: idna<4,>=2.5 in /usr/local/lib/python3.11/dist-packages (from requests>=2.8.1->wfdb) (3.10)\n",
      "Requirement already satisfied: urllib3<3,>=1.21.1 in /usr/local/lib/python3.11/dist-packages (from requests>=2.8.1->wfdb) (2.4.0)\n",
      "Requirement already satisfied: certifi>=2017.4.17 in /usr/local/lib/python3.11/dist-packages (from requests>=2.8.1->wfdb) (2025.7.9)\n",
      "Requirement already satisfied: cffi>=1.0 in /usr/local/lib/python3.11/dist-packages (from soundfile>=0.10.0->wfdb) (1.17.1)\n",
      "Requirement already satisfied: typing-extensions>=4.2 in /usr/local/lib/python3.11/dist-packages (from aiosignal>=1.1.2->aiohttp>=3.10.11->wfdb) (4.14.1)\n",
      "Requirement already satisfied: pycparser in /usr/local/lib/python3.11/dist-packages (from cffi>=1.0->soundfile>=0.10.0->wfdb) (2.22)\n",
      "Requirement already satisfied: six>=1.5 in /usr/local/lib/python3.11/dist-packages (from python-dateutil>=2.7->matplotlib>=3.2.2->wfdb) (1.17.0)\n",
      "Downloading wfdb-4.3.0-py3-none-any.whl (163 kB)\n",
      "\u001b[2K   \u001b[90m━━━━━━━━━━━━━━━━━━━━━━━━━━━━━━━━━━━━━━━━\u001b[0m \u001b[32m163.8/163.8 kB\u001b[0m \u001b[31m16.8 MB/s\u001b[0m eta \u001b[36m0:00:00\u001b[0m\n",
      "\u001b[?25hDownloading pandas-2.3.1-cp311-cp311-manylinux_2_17_x86_64.manylinux2014_x86_64.whl (12.4 MB)\n",
      "\u001b[2K   \u001b[90m━━━━━━━━━━━━━━━━━━━━━━━━━━━━━━━━━━━━━━━━\u001b[0m \u001b[32m12.4/12.4 MB\u001b[0m \u001b[31m114.6 MB/s\u001b[0m eta \u001b[36m0:00:00\u001b[0m\n",
      "\u001b[?25hInstalling collected packages: pandas, wfdb\n",
      "  Attempting uninstall: pandas\n",
      "    Found existing installation: pandas 2.2.2\n",
      "    Uninstalling pandas-2.2.2:\n",
      "      Successfully uninstalled pandas-2.2.2\n",
      "\u001b[31mERROR: pip's dependency resolver does not currently take into account all the packages that are installed. This behaviour is the source of the following dependency conflicts.\n",
      "google-colab 1.0.0 requires pandas==2.2.2, but you have pandas 2.3.1 which is incompatible.\n",
      "cudf-cu12 25.2.1 requires pandas<2.2.4dev0,>=2.0, but you have pandas 2.3.1 which is incompatible.\n",
      "dask-cudf-cu12 25.2.2 requires pandas<2.2.4dev0,>=2.0, but you have pandas 2.3.1 which is incompatible.\u001b[0m\u001b[31m\n",
      "\u001b[0mSuccessfully installed pandas-2.3.1 wfdb-4.3.0\n"
     ]
    }
   ],
   "source": [
    "!pip install wfdb"
   ]
  },
  {
   "cell_type": "code",
   "execution_count": null,
   "id": "iLc4od9ZmOBu",
   "metadata": {
    "colab": {
     "base_uri": "https://localhost:8080/"
    },
    "executionInfo": {
     "elapsed": 100823,
     "status": "ok",
     "timestamp": 1752541222483,
     "user": {
      "displayName": "Kyle Dudley",
      "userId": "05310552864591791788"
     },
     "user_tz": 300
    },
    "id": "iLc4od9ZmOBu",
    "outputId": "15194f98-0233-4236-b71a-2ba2dc85da2c"
   },
   "outputs": [
    {
     "name": "stdout",
     "output_type": "stream",
     "text": [
      "Mounted at /content/drive\n"
     ]
    }
   ],
   "source": [
    "from google.colab import drive\n",
    "\n",
    "# mount to google drive\n",
    "drive.mount('/content/drive', force_remount=True)\n",
    "\n",
    "# copy zip file to colab vm\n",
    "!cp \"/content/drive/MyDrive/datasets/ptb-xl.zip\" /content/\n",
    "\n",
    "# unzip locally (higher speed than gdrive)\n",
    "!unzip -q /content/ptb-xl.zip -d /content/ptb-xl"
   ]
  },
  {
   "cell_type": "code",
   "execution_count": null,
   "id": "NAxgcpWRnOVB",
   "metadata": {
    "colab": {
     "base_uri": "https://localhost:8080/"
    },
    "executionInfo": {
     "elapsed": 86,
     "status": "ok",
     "timestamp": 1752541222573,
     "user": {
      "displayName": "Kyle Dudley",
      "userId": "05310552864591791788"
     },
     "user_tz": 300
    },
    "id": "NAxgcpWRnOVB",
    "outputId": "865b6796-d2b6-4195-a014-bf1eae87c28f"
   },
   "outputs": [
    {
     "name": "stdout",
     "output_type": "stream",
     "text": [
      "example_physionet.py  ptbxl_database.csv  records100  scp_statements.csv\n",
      "LICENSE.txt\t      RECORDS\t\t  records500  SHA256SUMS.txt\n"
     ]
    }
   ],
   "source": [
    "# sanity check: make sure everything in the dataset exists\n",
    "!ls /content/ptb-xl/"
   ]
  },
  {
   "cell_type": "code",
   "execution_count": null,
   "id": "73d4c48c-da51-4fb9-8af4-b4e0520ab012",
   "metadata": {
    "colab": {
     "base_uri": "https://localhost:8080/",
     "height": 272
    },
    "executionInfo": {
     "elapsed": 736,
     "status": "ok",
     "timestamp": 1752541223320,
     "user": {
      "displayName": "Kyle Dudley",
      "userId": "05310552864591791788"
     },
     "user_tz": 300
    },
    "id": "73d4c48c-da51-4fb9-8af4-b4e0520ab012",
    "outputId": "e6ac7598-3c52-4854-cfa5-3e1c0e81245b"
   },
   "outputs": [
    {
     "data": {
      "text/html": [
       "<div>\n",
       "<style scoped>\n",
       "    .dataframe tbody tr th:only-of-type {\n",
       "        vertical-align: middle;\n",
       "    }\n",
       "\n",
       "    .dataframe tbody tr th {\n",
       "        vertical-align: top;\n",
       "    }\n",
       "\n",
       "    .dataframe thead th {\n",
       "        text-align: right;\n",
       "    }\n",
       "</style>\n",
       "<table border=\"1\" class=\"dataframe\">\n",
       "  <thead>\n",
       "    <tr style=\"text-align: right;\">\n",
       "      <th></th>\n",
       "      <th>scp_codes</th>\n",
       "    </tr>\n",
       "    <tr>\n",
       "      <th>ecg_id</th>\n",
       "      <th></th>\n",
       "    </tr>\n",
       "  </thead>\n",
       "  <tbody>\n",
       "    <tr>\n",
       "      <th>1</th>\n",
       "      <td>{'NORM': 100.0, 'LVOLT': 0.0, 'SR': 0.0}</td>\n",
       "    </tr>\n",
       "    <tr>\n",
       "      <th>2</th>\n",
       "      <td>{'NORM': 80.0, 'SBRAD': 0.0}</td>\n",
       "    </tr>\n",
       "    <tr>\n",
       "      <th>3</th>\n",
       "      <td>{'NORM': 100.0, 'SR': 0.0}</td>\n",
       "    </tr>\n",
       "    <tr>\n",
       "      <th>4</th>\n",
       "      <td>{'NORM': 100.0, 'SR': 0.0}</td>\n",
       "    </tr>\n",
       "    <tr>\n",
       "      <th>5</th>\n",
       "      <td>{'NORM': 100.0, 'SR': 0.0}</td>\n",
       "    </tr>\n",
       "  </tbody>\n",
       "</table>\n",
       "</div><br><label><b>dtype:</b> object</label>"
      ],
      "text/plain": [
       "ecg_id\n",
       "1    {'NORM': 100.0, 'LVOLT': 0.0, 'SR': 0.0}\n",
       "2                {'NORM': 80.0, 'SBRAD': 0.0}\n",
       "3                  {'NORM': 100.0, 'SR': 0.0}\n",
       "4                  {'NORM': 100.0, 'SR': 0.0}\n",
       "5                  {'NORM': 100.0, 'SR': 0.0}\n",
       "Name: scp_codes, dtype: object"
      ]
     },
     "execution_count": 5,
     "metadata": {},
     "output_type": "execute_result"
    }
   ],
   "source": [
    "import pandas as pd\n",
    "import ast\n",
    "\n",
    "# path to our dataset\n",
    "path = '/content/ptb-xl/'\n",
    "\n",
    "# put dataset in dataframe\n",
    "Y = pd.read_csv(path + 'ptbxl_database.csv', index_col='ecg_id')\n",
    "\n",
    "# translate from string to dictionary for parsing\n",
    "Y['scp_codes'] = Y['scp_codes'].apply(ast.literal_eval)\n",
    "\n",
    "# highest quality labels are those provided by cardiologists\n",
    "Y = Y[Y.validated_by_human]\n",
    "\n",
    "Y['scp_codes'].head()"
   ]
  },
  {
   "cell_type": "code",
   "execution_count": null,
   "id": "cd1c910a-bae6-426a-96e6-1d9841d1e27c",
   "metadata": {
    "colab": {
     "base_uri": "https://localhost:8080/",
     "height": 178
    },
    "executionInfo": {
     "elapsed": 71,
     "status": "ok",
     "timestamp": 1752541223394,
     "user": {
      "displayName": "Kyle Dudley",
      "userId": "05310552864591791788"
     },
     "user_tz": 300
    },
    "id": "cd1c910a-bae6-426a-96e6-1d9841d1e27c",
    "outputId": "c442fada-e21d-480e-9cf1-15be0b33bdd6"
   },
   "outputs": [
    {
     "data": {
      "text/html": [
       "<div>\n",
       "<style scoped>\n",
       "    .dataframe tbody tr th:only-of-type {\n",
       "        vertical-align: middle;\n",
       "    }\n",
       "\n",
       "    .dataframe tbody tr th {\n",
       "        vertical-align: top;\n",
       "    }\n",
       "\n",
       "    .dataframe thead th {\n",
       "        text-align: right;\n",
       "    }\n",
       "</style>\n",
       "<table border=\"1\" class=\"dataframe\">\n",
       "  <thead>\n",
       "    <tr style=\"text-align: right;\">\n",
       "      <th></th>\n",
       "      <th>count</th>\n",
       "    </tr>\n",
       "    <tr>\n",
       "      <th>rhythm</th>\n",
       "      <th></th>\n",
       "    </tr>\n",
       "  </thead>\n",
       "  <tbody>\n",
       "    <tr>\n",
       "      <th>sinus normal</th>\n",
       "      <td>14467</td>\n",
       "    </tr>\n",
       "    <tr>\n",
       "      <th>atrial fibrillation</th>\n",
       "      <td>963</td>\n",
       "    </tr>\n",
       "  </tbody>\n",
       "</table>\n",
       "</div><br><label><b>dtype:</b> int64</label>"
      ],
      "text/plain": [
       "rhythm\n",
       "sinus normal           14467\n",
       "atrial fibrillation      963\n",
       "Name: count, dtype: int64"
      ]
     },
     "execution_count": 6,
     "metadata": {},
     "output_type": "execute_result"
    }
   ],
   "source": [
    "# after several rounds of testing and based on real-world wearable devices like Apple Watch, i concluded this is the only reliable classification\n",
    "# we include all of the sinus-type rhythms in one class (even arrhythmia) because you cannot draw medical inference from individual classification, so no need to alert the user here.\n",
    "rhythm_map = {\n",
    "    \"NORM\": 'sinus normal',\n",
    "    'SR':   'sinus normal',\n",
    "    'SARRH':'sinus normal',\n",
    "    'SBRAD':'sinus normal',\n",
    "    'STACH':'sinus normal',\n",
    "    'AFIB': 'atrial fibrillation' # afib is the most dangerous rhythm type as it leads to further issues like stroke, heart failure, etc\n",
    "}\n",
    "\n",
    "# we will parse the scp_codes dict from earlier\n",
    "def get_rhythm_label(codes):\n",
    "    for code, label in rhythm_map.items():\n",
    "        if any(key.startswith(code) for key in codes.keys()):\n",
    "            return label\n",
    "    return None\n",
    "\n",
    "# clean copy for safety\n",
    "Y = Y.copy()\n",
    "\n",
    "# now use .loc to force pandas to write into the frame\n",
    "Y.loc[:, 'rhythm'] = Y['scp_codes'].apply(get_rhythm_label)\n",
    "\n",
    "# drop any rows where the code didn't work\n",
    "Y = Y.dropna(subset=['rhythm'])\n",
    "\n",
    "# class imbalance debug\n",
    "Y['rhythm'].value_counts()"
   ]
  },
  {
   "cell_type": "markdown",
   "id": "REtluxobndsz",
   "metadata": {
    "id": "REtluxobndsz"
   },
   "source": [
    "As you can see there is a very high class imbalance. This is natural because humans will have a normal rhythm more often than not (as is essential to life).\n",
    "\n",
    "If we do not fix this class imbalance, the model will learn to cheat the system for high accuracy by guessing the dominant class all the time (oversimplification, but that's basically how it works).\n",
    "\n",
    "To fix this, we will duplicate the non dominant class data, and add time-aware augmentations like time warping, jitter, and smoothing. This will help reduce overfitting as well.\n",
    "\n",
    "We only want to apply the oversampling to the training set. We do not want to touch the validation set. This needs to be the ground truth data, so modifying it in any way is clearly risky."
   ]
  },
  {
   "cell_type": "markdown",
   "id": "5qzt8-KAei47",
   "metadata": {
    "id": "5qzt8-KAei47"
   },
   "source": [
    "# Part 2: Feature Extraction and Fixing Class Imbalance\n",
    "\n",
    "From the last section, we have a very large class imbalance. We need to fix this before we train our model. To do this we will oversample the minority class using duplication with time aware augmentation techniques. If we do not fix this, our model will ignore our minority class and just predict the dominant class to cheat the accuracy metric. We will also extract R-wave timing-based features since 1DCNN otherwise has a difficult time handling temporal aspect of the data occasionally necessary for our classification problem."
   ]
  },
  {
   "cell_type": "markdown",
   "id": "kiLdq23qgHqt",
   "metadata": {
    "id": "kiLdq23qgHqt"
   },
   "source": [
    "## Pan-Tompkins QRS complex detection\n",
    "\n",
    "To extract the R-wave timing-based features, we first need to correctly identify the emergence of the R-wave. There are many rudimentary heuristics that can be used such as find_peaks in Scipy, but none have as well known of a history compared to the Pan-Tompkins algorithm. The Pan-Tompkins algorithm is known for low computational cost while retaining high accuracy, making it ideal for embedded systems applications.\n",
    "\n",
    "The Pan-Tompkins algorithm works in 5 steps:\n",
    "\n",
    "*   Bandpass filter: Remove baseline wander & high-frequency noise\n",
    "*   Differentiation: Highlight steep slopes of the ECG signal\n",
    "*   Squaring: Square the function to make all data positive and emphasize larger offsets\n",
    "*   Smoothing: 150ms window used to smooth signal and create waveform for peak analysis\n",
    "*   Thresholding: Adaptive thresholds to detect true QRS complexes, distinguishing real heartbeats from noise or other artifacts.\n",
    "\n"
   ]
  },
  {
   "cell_type": "code",
   "execution_count": null,
   "id": "OIvTpnhtbTOh",
   "metadata": {
    "id": "OIvTpnhtbTOh"
   },
   "outputs": [],
   "source": [
    "def pan_tompkins_qrs_detect(signal, fs):\n",
    "    diff = np.diff(signal, prepend=signal[0])\n",
    "    squared = diff ** 2\n",
    "\n",
    "    win_size = int(0.15 * fs)\n",
    "    integrated = np.convolve(squared, np.ones(win_size)/win_size, mode='same')\n",
    "\n",
    "    threshold = np.mean(integrated) + 0.7 * np.std(integrated)\n",
    "    potential_peaks = np.where(integrated > threshold)[0]\n",
    "\n",
    "    min_distance = int(0.78 * fs)  # allows for about a maximum heart rate of 300\n",
    "\n",
    "    peaks = []\n",
    "    last_peak = -np.inf\n",
    "\n",
    "    for idx in potential_peaks:\n",
    "        if idx - last_peak > min_distance:\n",
    "            peaks.append(idx)\n",
    "            last_peak = idx\n",
    "\n",
    "    peaks = np.array(peaks)\n",
    "\n",
    "    return peaks"
   ]
  },
  {
   "cell_type": "markdown",
   "id": "k8UVdUs3hO0T",
   "metadata": {
    "id": "k8UVdUs3hO0T"
   },
   "source": [
    "## RR interval timing-based feature extraction\n",
    "\n",
    "Our key goal for this system is to distinguish atrial fibrillation from sinus rhythms.\n",
    "\n",
    "* AFib: Chaotic, irregular, no repeating RR interval pattern\n",
    "* Sinus rhythm: Regular (no matter the speed), consistent RR interval\n",
    "\n",
    "Therefore, if we can quantify regularity and variability of the RR interval, we have very powerful discriminators for our two classes."
   ]
  },
  {
   "cell_type": "code",
   "execution_count": null,
   "id": "DzBG-F5fdToH",
   "metadata": {
    "id": "DzBG-F5fdToH"
   },
   "outputs": [],
   "source": [
    "import numpy as np\n",
    "from scipy.signal import welch\n",
    "\n",
    "def compute_rr_features(rpeaks_samples, fs):\n",
    "    # convert sample‐indices to ms intervals\n",
    "    rr_intervals = np.diff(rpeaks_samples) / fs * 1000\n",
    "\n",
    "    if len(rr_intervals) < 2:\n",
    "        return np.zeros(7, dtype=float)\n",
    "\n",
    "    # time‐domain extracted features\n",
    "    mean_rr = np.mean(rr_intervals)\n",
    "    sdnn    = np.std(rr_intervals, ddof=1)\n",
    "    diff1   = np.diff(rr_intervals)\n",
    "    rmssd   = np.sqrt(np.mean(diff1**2))\n",
    "    pnn50   = np.sum(np.abs(diff1) > 50) / len(diff1)\n",
    "    pnn20   = np.sum(np.abs(diff1) > 20) / len(diff1)\n",
    "\n",
    "    # Poincare plot metrics\n",
    "    var_rr   = np.var(rr_intervals)\n",
    "    var_diff = np.var(diff1)\n",
    "    sd1 = np.sqrt(var_diff / 2.0)\n",
    "    sd2_sq = 2 * var_rr - var_diff / 2.0\n",
    "    sd2   = np.sqrt(sd2_sq) if sd2_sq > 0 else 0.0\n",
    "\n",
    "    # assemble and sanitize\n",
    "    features = np.array([mean_rr, sdnn, rmssd, pnn50, pnn20, sd1, sd2], dtype=float)\n",
    "\n",
    "    return features"
   ]
  },
  {
   "cell_type": "markdown",
   "id": "rYOYwlA1iJtz",
   "metadata": {
    "id": "rYOYwlA1iJtz"
   },
   "source": [
    "## Resampling, normalization, feature extraction calls\n",
    "\n",
    "Basically here I am just processing the data, resampling from 500Hz to 256Hz to fit the ECG front end read rate, normalizing the signal, detecting the QRS complexes, and extracting the RR features from that. This code prepares us to mask data into train and test sets."
   ]
  },
  {
   "cell_type": "code",
   "execution_count": null,
   "id": "2ca3703b-9f17-49c6-931c-1457249e7dab",
   "metadata": {
    "colab": {
     "base_uri": "https://localhost:8080/"
    },
    "collapsed": true,
    "executionInfo": {
     "elapsed": 51086,
     "status": "ok",
     "timestamp": 1752541275142,
     "user": {
      "displayName": "Kyle Dudley",
      "userId": "05310552864591791788"
     },
     "user_tz": 300
    },
    "id": "2ca3703b-9f17-49c6-931c-1457249e7dab",
    "outputId": "0992a30e-faab-4b75-a565-c7d48d947085"
   },
   "outputs": [
    {
     "name": "stdout",
     "output_type": "stream",
     "text": [
      "signals.shape: (15430, 2560)\n",
      "rr_features.shape: (15430, 7)\n",
      "example window mean/std: 5.551115123125783e-18 1.0\n"
     ]
    }
   ],
   "source": [
    "\n",
    "from scipy.signal import resample\n",
    "import numpy as np\n",
    "import wfdb\n",
    "\n",
    "fs_target = 256\n",
    "window_length = fs_target * 10 # 10 seconds at 256Hz\n",
    "\n",
    "signals = []\n",
    "rr_features = []\n",
    "\n",
    "for fn in Y.filename_hr:\n",
    "    # read signal and metadata\n",
    "    sig, meta = wfdb.rdsamp(path + fn)\n",
    "\n",
    "    # pick lead II (this is the device electrode configuration)\n",
    "    lead_idx = meta['sig_name'].index('II')\n",
    "    x        = sig[:, lead_idx]\n",
    "\n",
    "    # resample to 256Hz from 500Hz\n",
    "    new_len = int(len(x) * fs_target / meta['fs'])\n",
    "    x_rs    = resample(x, new_len)\n",
    "\n",
    "    # if we have at least one 10s window worth of samples\n",
    "    if len(x_rs) >= window_length:\n",
    "        w = x_rs[:window_length]\n",
    "\n",
    "        # normalize\n",
    "        mean = np.mean(w)\n",
    "        std = np.std(w)\n",
    "        if std < 1e-6:\n",
    "           std = 1e-6\n",
    "        w = (w - mean) / std\n",
    "\n",
    "        signals.append(w)\n",
    "\n",
    "        # QRS complex detection\n",
    "        peaks = pan_tompkins_qrs_detect(w, fs_target)\n",
    "\n",
    "        # compute RR features\n",
    "        rr_feat = compute_rr_features(peaks, fs_target)\n",
    "        rr_features.append(rr_feat)\n",
    "\n",
    "# stack into (N_windows, window_length)\n",
    "signals = np.stack(signals)\n",
    "rr_features = np.stack(rr_features)\n",
    "\n",
    "signals.shape, rr_features.shape, np.mean(signals[0]), np.std(signals[0])"
   ]
  },
  {
   "cell_type": "code",
   "execution_count": 1,
   "id": "QbSnPVa6YP9F",
   "metadata": {
    "colab": {
     "base_uri": "https://localhost:8080/",
     "height": 216
    },
    "executionInfo": {
     "elapsed": 62,
     "status": "error",
     "timestamp": 1752687047820,
     "user": {
      "displayName": "Kyle Dudley",
      "userId": "05310552864591791788"
     },
     "user_tz": 300
    },
    "id": "QbSnPVa6YP9F",
    "outputId": "e0d57990-6fc5-42ae-d9b9-147ff826cc69"
   },
   "outputs": [
    {
     "ename": "NameError",
     "evalue": "name 'signals' is not defined",
     "output_type": "error",
     "traceback": [
      "\u001b[0;31m---------------------------------------------------------------------------\u001b[0m",
      "\u001b[0;31mNameError\u001b[0m                                 Traceback (most recent call last)",
      "\u001b[0;32m/tmp/ipython-input-1-2677522433.py\u001b[0m in \u001b[0;36m<cell line: 0>\u001b[0;34m()\u001b[0m\n\u001b[1;32m      2\u001b[0m \u001b[0;34m\u001b[0m\u001b[0m\n\u001b[1;32m      3\u001b[0m \u001b[0;31m# sanity check: plot random windows and features to ensure consistency\u001b[0m\u001b[0;34m\u001b[0m\u001b[0;34m\u001b[0m\u001b[0m\n\u001b[0;32m----> 4\u001b[0;31m \u001b[0mn_plot\u001b[0m \u001b[0;34m=\u001b[0m \u001b[0mmin\u001b[0m\u001b[0;34m(\u001b[0m\u001b[0;36m5\u001b[0m\u001b[0;34m,\u001b[0m \u001b[0msignals\u001b[0m\u001b[0;34m.\u001b[0m\u001b[0mshape\u001b[0m\u001b[0;34m[\u001b[0m\u001b[0;36m0\u001b[0m\u001b[0;34m]\u001b[0m\u001b[0;34m)\u001b[0m\u001b[0;34m\u001b[0m\u001b[0;34m\u001b[0m\u001b[0m\n\u001b[0m\u001b[1;32m      5\u001b[0m \u001b[0mindices\u001b[0m \u001b[0;34m=\u001b[0m \u001b[0mnp\u001b[0m\u001b[0;34m.\u001b[0m\u001b[0mrandom\u001b[0m\u001b[0;34m.\u001b[0m\u001b[0mchoice\u001b[0m\u001b[0;34m(\u001b[0m\u001b[0msignals\u001b[0m\u001b[0;34m.\u001b[0m\u001b[0mshape\u001b[0m\u001b[0;34m[\u001b[0m\u001b[0;36m0\u001b[0m\u001b[0;34m]\u001b[0m\u001b[0;34m,\u001b[0m \u001b[0mn_plot\u001b[0m\u001b[0;34m,\u001b[0m \u001b[0mreplace\u001b[0m\u001b[0;34m=\u001b[0m\u001b[0;32mFalse\u001b[0m\u001b[0;34m)\u001b[0m\u001b[0;34m\u001b[0m\u001b[0;34m\u001b[0m\u001b[0m\n\u001b[1;32m      6\u001b[0m \u001b[0;34m\u001b[0m\u001b[0m\n",
      "\u001b[0;31mNameError\u001b[0m: name 'signals' is not defined"
     ]
    }
   ],
   "source": [
    "import matplotlib.pyplot as plt\n",
    "\n",
    "# sanity check: plot random windows and features to ensure consistency\n",
    "n_plot = min(5, signals.shape[0])\n",
    "indices = np.random.choice(signals.shape[0], n_plot, replace=False)\n",
    "\n",
    "for i, idx in enumerate(indices):\n",
    "    window = signals[idx]\n",
    "\n",
    "    # Run Pan-Tompkins\n",
    "    peaks = pan_tompkins_qrs_detect(window, fs_target)\n",
    "\n",
    "    plt.figure(figsize=(12, 3))\n",
    "    plt.plot(window, label='raw signal')\n",
    "    plt.plot(peaks, window[peaks], 'ro', label='QRS complex')\n",
    "    plt.title(f\"{idx}\")\n",
    "    plt.xlabel(\"index\")\n",
    "    plt.ylabel(\"mV (n)\")\n",
    "    plt.legend()\n",
    "    plt.show()\n",
    "\n",
    "    # print RR features for that window\n",
    "    rr_feat = compute_rr_features(peaks, fs_target)\n",
    "    print(f\"RR features:\", rr_feat)\n"
   ]
  },
  {
   "cell_type": "markdown",
   "id": "mvhbulOoTnu4",
   "metadata": {
    "id": "mvhbulOoTnu4"
   },
   "source": [
    "# Part 3: Training the Model\n",
    "\n",
    "We will use a 1DCNN concatenated with a dense layer. This allow extraction of morphological information through 1DCNN and extraction of temporal information through dense layer (time-based statistics). This allow us to better differentiate AFib from Sinus compared to just one or the other."
   ]
  },
  {
   "cell_type": "markdown",
   "id": "LJ4BYZpiX9qz",
   "metadata": {
    "id": "LJ4BYZpiX9qz"
   },
   "source": [
    "## Preprocessing"
   ]
  },
  {
   "cell_type": "code",
   "execution_count": 2,
   "id": "65408f37-175d-43f1-9cc2-97a2af42f7e9",
   "metadata": {
    "colab": {
     "base_uri": "https://localhost:8080/",
     "height": 216
    },
    "executionInfo": {
     "elapsed": 1153,
     "status": "error",
     "timestamp": 1752687248854,
     "user": {
      "displayName": "Kyle Dudley",
      "userId": "05310552864591791788"
     },
     "user_tz": 300
    },
    "id": "65408f37-175d-43f1-9cc2-97a2af42f7e9",
    "outputId": "1cb3c1f5-7dc3-4487-a46d-e54ddbe4e7f9"
   },
   "outputs": [
    {
     "ename": "NameError",
     "evalue": "name 'signals' is not defined",
     "output_type": "error",
     "traceback": [
      "\u001b[0;31m---------------------------------------------------------------------------\u001b[0m",
      "\u001b[0;31mNameError\u001b[0m                                 Traceback (most recent call last)",
      "\u001b[0;32m/tmp/ipython-input-2-2076388384.py\u001b[0m in \u001b[0;36m<cell line: 0>\u001b[0;34m()\u001b[0m\n\u001b[1;32m      3\u001b[0m \u001b[0;31m# reshape signals to add channel dimension\u001b[0m\u001b[0;34m\u001b[0m\u001b[0;34m\u001b[0m\u001b[0m\n\u001b[1;32m      4\u001b[0m \u001b[0;31m# basically the trailing dimension says that this is a batch of signals\u001b[0m\u001b[0;34m\u001b[0m\u001b[0;34m\u001b[0m\u001b[0m\n\u001b[0;32m----> 5\u001b[0;31m \u001b[0mX_all\u001b[0m \u001b[0;34m=\u001b[0m \u001b[0msignals\u001b[0m\u001b[0;34m[\u001b[0m\u001b[0;34m...\u001b[0m\u001b[0;34m,\u001b[0m \u001b[0mnp\u001b[0m\u001b[0;34m.\u001b[0m\u001b[0mnewaxis\u001b[0m\u001b[0;34m]\u001b[0m  \u001b[0;31m# shape (N_windows, window_length, channels)\u001b[0m\u001b[0;34m\u001b[0m\u001b[0;34m\u001b[0m\u001b[0m\n\u001b[0m\u001b[1;32m      6\u001b[0m \u001b[0;34m\u001b[0m\u001b[0m\n\u001b[1;32m      7\u001b[0m \u001b[0;31m# encode rhythms\u001b[0m\u001b[0;34m\u001b[0m\u001b[0;34m\u001b[0m\u001b[0m\n",
      "\u001b[0;31mNameError\u001b[0m: name 'signals' is not defined"
     ]
    }
   ],
   "source": [
    "from sklearn.preprocessing import LabelEncoder, StandardScaler\n",
    "\n",
    "# reshape signals to add channel dimension\n",
    "# basically the trailing dimension says that this is a batch of signals\n",
    "X_all = signals[..., np.newaxis]  # shape (N_windows, window_length, channels)\n",
    "\n",
    "# encode rhythms\n",
    "le = LabelEncoder()\n",
    "le.fit(Y['rhythm'])\n",
    "y_all = le.transform(Y['rhythm'].values)\n",
    "\n",
    "# train-test split\n",
    "train_mask = (Y.strat_fold != 10).values\n",
    "test_mask  = (Y.strat_fold == 10).values # according to PTB-XL docs we should use this masking\n",
    "\n",
    "X_train, y_train = X_all[train_mask], y_all[train_mask]\n",
    "X_test,  y_test  = X_all[test_mask],  y_all[test_mask]\n",
    "\n",
    "RR_train, RR_test = rr_features[train_mask], rr_features[test_mask]\n",
    "\n",
    "# standardize RR features\n",
    "# later we need to save these so we can replicate the same scaling on the MCU\n",
    "# otherwise we will get poor inferencing on the MCU\n",
    "scaler = StandardScaler().fit(RR_train) # fit only on train\n",
    "RR_train = scaler.transform(RR_train)\n",
    "RR_test  = scaler.transform(RR_test)\n",
    "\n",
    "# print shapes for confirmation\n",
    "print(\"X train shape:\", X_train.shape)\n",
    "print(\"X test shape:\", X_test.shape)\n",
    "print(\"RR train shape:\", RR_train.shape)\n",
    "print(\"RR test shape:\", RR_test.shape)\n",
    "print(\"y train shape:\", y_train.shape)\n",
    "print(\"y test shape:\", y_test.shape)\n"
   ]
  },
  {
   "cell_type": "markdown",
   "id": "wwkKZk3RT7Oj",
   "metadata": {
    "id": "wwkKZk3RT7Oj"
   },
   "source": [
    "## Oversampling\n",
    "\n",
    "Here we are duplicating data points with some noise to fix the class imbalance issue. This is a must otherwise as I said before, the model will learn to guess the majority class all the time, which is a trivial solution."
   ]
  },
  {
   "cell_type": "code",
   "execution_count": null,
   "id": "8d65fc23-e5ed-4629-9604-6046a16729cb",
   "metadata": {
    "colab": {
     "base_uri": "https://localhost:8080/"
    },
    "executionInfo": {
     "elapsed": 8190,
     "status": "ok",
     "timestamp": 1752541284844,
     "user": {
      "displayName": "Kyle Dudley",
      "userId": "05310552864591791788"
     },
     "user_tz": 300
    },
    "id": "8d65fc23-e5ed-4629-9604-6046a16729cb",
    "outputId": "282b3774-ea35-4825-e0f5-2789a72aff7b"
   },
   "outputs": [
    {
     "name": "stdout",
     "output_type": "stream",
     "text": [
      "After oversampling (Training): Counter({np.int32(1): 12526, np.int32(0): 12526})\n",
      "(25052, 2560, 1) (25052, 7) (25052,)\n"
     ]
    }
   ],
   "source": [
    "from collections import Counter\n",
    "import numpy as np\n",
    "import pandas as pd\n",
    "\n",
    "# random noise to singal\n",
    "def add_jitter(signal, sigma=0.02):\n",
    "    return signal + np.random.normal(loc=0., scale=sigma, size=signal.shape)\n",
    "\n",
    "# time-stretch factor on signal\n",
    "def scale_signal(signal, scale_range=(0.8, 1.2)):\n",
    "    scale_factor = np.random.uniform(scale_range[0], scale_range[1])\n",
    "    return signal * scale_factor\n",
    "\n",
    "# this is generated by LLM\n",
    "# my smoothing function kept breaking for some reason\n",
    "# but this one works pretty well\n",
    "def smooth_signal(signal, window_size=5):\n",
    "    signal = np.asarray(signal)\n",
    "    if signal.ndim == 1:\n",
    "        rolled = pd.Series(signal).rolling(window=window_size, center=True).mean()\n",
    "        return np.where(np.isnan(rolled), signal, rolled)\n",
    "    elif signal.ndim == 2:\n",
    "        smoothed = np.apply_along_axis(\n",
    "            lambda x: np.where(\n",
    "                np.isnan(pd.Series(x).rolling(window=window_size, center=True).mean()),\n",
    "                x,\n",
    "                pd.Series(x).rolling(window=window_size, center=True).mean()\n",
    "            ),\n",
    "            axis=0, arr=signal\n",
    "        )\n",
    "        return smoothed\n",
    "    else:\n",
    "        raise ValueError(\"broken\")\n",
    "\n",
    "def oversample(X, y, RR_features, augment=False, rr_sigma=0.1):\n",
    "    cnt = Counter(y)\n",
    "    max_count = max(cnt.values())\n",
    "    indices_per_class = {cls: np.where(y==cls)[0] for cls in cnt}\n",
    "\n",
    "    X_new, RR_new, y_new = [], [], []\n",
    "\n",
    "    for cls, idxs in indices_per_class.items():\n",
    "        # keep all original\n",
    "        for i in idxs:\n",
    "            sig = X[i].squeeze()\n",
    "            sig = smooth_signal(sig)\n",
    "            X_new.append(sig)\n",
    "            RR_new.append(RR_features[i])\n",
    "            y_new.append(cls)\n",
    "\n",
    "        # augment data\n",
    "        for _ in range(max_count - len(idxs)):\n",
    "            orig_idx = np.random.choice(idxs)\n",
    "            sig_aug = X[orig_idx].squeeze()\n",
    "\n",
    "            # signal\n",
    "            if augment:\n",
    "                sig_aug = smooth_signal(sig_aug)\n",
    "                sig_aug = add_jitter(sig_aug)\n",
    "                sig_aug = scale_signal(sig_aug)\n",
    "\n",
    "            # RR feature\n",
    "            rr_aug = RR_features[orig_idx].copy()\n",
    "            if augment:\n",
    "                noise = np.random.normal(loc=0.0, scale=rr_sigma, size=rr_aug.shape)\n",
    "                rr_aug = rr_aug + noise\n",
    "\n",
    "            X_new.append(sig_aug)\n",
    "            RR_new.append(rr_aug)\n",
    "            y_new.append(cls)\n",
    "\n",
    "    # stack back into arrays\n",
    "    X_oversampled  = np.stack(X_new)[..., np.newaxis]\n",
    "    RR_oversampled = np.stack(RR_new)\n",
    "    y_oversampled  = np.array(y_new, dtype=np.int32)\n",
    "\n",
    "    return X_oversampled, RR_oversampled, y_oversampled\n",
    "\n",
    "# usage for training set:\n",
    "X_train, RR_train, y_train = oversample(\n",
    "    X_train, y_train, RR_train,\n",
    "    augment=True,\n",
    "    rr_sigma=0.05 # 5% noise on each RR feature\n",
    ")\n",
    "\n",
    "print(\"after oversampling\", Counter(y_train))\n",
    "print(X_train.shape, RR_train.shape, y_train.shape)"
   ]
  },
  {
   "cell_type": "markdown",
   "id": "pJWZRg_OVeZq",
   "metadata": {
    "id": "pJWZRg_OVeZq"
   },
   "source": [
    "## Model architecture\n",
    "\n",
    "The model has two branches: convolutional branch that handles the raw waveforms, and dense branch to handle the RR features. By merging the branches we obtain both morphological information from the convolutional branch, and temporal information (summarized via stats) through the dense branch. This approach significantly increases our capability to differentiate AFib from Sinus rhythm compared to just one of either branch."
   ]
  },
  {
   "cell_type": "code",
   "execution_count": null,
   "id": "d87fe8a0",
   "metadata": {
    "colab": {
     "base_uri": "https://localhost:8080/",
     "height": 782
    },
    "executionInfo": {
     "elapsed": 4436,
     "status": "ok",
     "timestamp": 1752541289282,
     "user": {
      "displayName": "Kyle Dudley",
      "userId": "05310552864591791788"
     },
     "user_tz": 300
    },
    "id": "d87fe8a0",
    "outputId": "98161cae-6c84-4334-eace-f6e37f87cf7e"
   },
   "outputs": [
    {
     "data": {
      "text/html": [
       "<pre style=\"white-space:pre;overflow-x:auto;line-height:normal;font-family:Menlo,'DejaVu Sans Mono',consolas,'Courier New',monospace\"><span style=\"font-weight: bold\">Model: \"functional\"</span>\n",
       "</pre>\n"
      ],
      "text/plain": [
       "\u001b[1mModel: \"functional\"\u001b[0m\n"
      ]
     },
     "metadata": {},
     "output_type": "display_data"
    },
    {
     "data": {
      "text/html": [
       "<pre style=\"white-space:pre;overflow-x:auto;line-height:normal;font-family:Menlo,'DejaVu Sans Mono',consolas,'Courier New',monospace\">┏━━━━━━━━━━━━━━━━━━━━━┳━━━━━━━━━━━━━━━━━━━┳━━━━━━━━━━━━┳━━━━━━━━━━━━━━━━━━━┓\n",
       "┃<span style=\"font-weight: bold\"> Layer (type)        </span>┃<span style=\"font-weight: bold\"> Output Shape      </span>┃<span style=\"font-weight: bold\">    Param # </span>┃<span style=\"font-weight: bold\"> Connected to      </span>┃\n",
       "┡━━━━━━━━━━━━━━━━━━━━━╇━━━━━━━━━━━━━━━━━━━╇━━━━━━━━━━━━╇━━━━━━━━━━━━━━━━━━━┩\n",
       "│ ecg_signal          │ (<span style=\"color: #00d7ff; text-decoration-color: #00d7ff\">None</span>, <span style=\"color: #00af00; text-decoration-color: #00af00\">2560</span>, <span style=\"color: #00af00; text-decoration-color: #00af00\">1</span>)   │          <span style=\"color: #00af00; text-decoration-color: #00af00\">0</span> │ -                 │\n",
       "│ (<span style=\"color: #0087ff; text-decoration-color: #0087ff\">InputLayer</span>)        │                   │            │                   │\n",
       "├─────────────────────┼───────────────────┼────────────┼───────────────────┤\n",
       "│ conv1d (<span style=\"color: #0087ff; text-decoration-color: #0087ff\">Conv1D</span>)     │ (<span style=\"color: #00d7ff; text-decoration-color: #00d7ff\">None</span>, <span style=\"color: #00af00; text-decoration-color: #00af00\">2560</span>, <span style=\"color: #00af00; text-decoration-color: #00af00\">16</span>)  │        <span style=\"color: #00af00; text-decoration-color: #00af00\">128</span> │ ecg_signal[<span style=\"color: #00af00; text-decoration-color: #00af00\">0</span>][<span style=\"color: #00af00; text-decoration-color: #00af00\">0</span>]  │\n",
       "├─────────────────────┼───────────────────┼────────────┼───────────────────┤\n",
       "│ max_pooling1d       │ (<span style=\"color: #00d7ff; text-decoration-color: #00d7ff\">None</span>, <span style=\"color: #00af00; text-decoration-color: #00af00\">640</span>, <span style=\"color: #00af00; text-decoration-color: #00af00\">16</span>)   │          <span style=\"color: #00af00; text-decoration-color: #00af00\">0</span> │ conv1d[<span style=\"color: #00af00; text-decoration-color: #00af00\">0</span>][<span style=\"color: #00af00; text-decoration-color: #00af00\">0</span>]      │\n",
       "│ (<span style=\"color: #0087ff; text-decoration-color: #0087ff\">MaxPooling1D</span>)      │                   │            │                   │\n",
       "├─────────────────────┼───────────────────┼────────────┼───────────────────┤\n",
       "│ conv1d_1 (<span style=\"color: #0087ff; text-decoration-color: #0087ff\">Conv1D</span>)   │ (<span style=\"color: #00d7ff; text-decoration-color: #00d7ff\">None</span>, <span style=\"color: #00af00; text-decoration-color: #00af00\">640</span>, <span style=\"color: #00af00; text-decoration-color: #00af00\">32</span>)   │      <span style=\"color: #00af00; text-decoration-color: #00af00\">7,712</span> │ max_pooling1d[<span style=\"color: #00af00; text-decoration-color: #00af00\">0</span>]… │\n",
       "├─────────────────────┼───────────────────┼────────────┼───────────────────┤\n",
       "│ max_pooling1d_1     │ (<span style=\"color: #00d7ff; text-decoration-color: #00d7ff\">None</span>, <span style=\"color: #00af00; text-decoration-color: #00af00\">160</span>, <span style=\"color: #00af00; text-decoration-color: #00af00\">32</span>)   │          <span style=\"color: #00af00; text-decoration-color: #00af00\">0</span> │ conv1d_1[<span style=\"color: #00af00; text-decoration-color: #00af00\">0</span>][<span style=\"color: #00af00; text-decoration-color: #00af00\">0</span>]    │\n",
       "│ (<span style=\"color: #0087ff; text-decoration-color: #0087ff\">MaxPooling1D</span>)      │                   │            │                   │\n",
       "├─────────────────────┼───────────────────┼────────────┼───────────────────┤\n",
       "│ conv1d_2 (<span style=\"color: #0087ff; text-decoration-color: #0087ff\">Conv1D</span>)   │ (<span style=\"color: #00d7ff; text-decoration-color: #00d7ff\">None</span>, <span style=\"color: #00af00; text-decoration-color: #00af00\">160</span>, <span style=\"color: #00af00; text-decoration-color: #00af00\">64</span>)   │     <span style=\"color: #00af00; text-decoration-color: #00af00\">63,552</span> │ max_pooling1d_1[<span style=\"color: #00af00; text-decoration-color: #00af00\">…</span> │\n",
       "├─────────────────────┼───────────────────┼────────────┼───────────────────┤\n",
       "│ rr_features         │ (<span style=\"color: #00d7ff; text-decoration-color: #00d7ff\">None</span>, <span style=\"color: #00af00; text-decoration-color: #00af00\">7</span>)         │          <span style=\"color: #00af00; text-decoration-color: #00af00\">0</span> │ -                 │\n",
       "│ (<span style=\"color: #0087ff; text-decoration-color: #0087ff\">InputLayer</span>)        │                   │            │                   │\n",
       "├─────────────────────┼───────────────────┼────────────┼───────────────────┤\n",
       "│ global_average_poo… │ (<span style=\"color: #00d7ff; text-decoration-color: #00d7ff\">None</span>, <span style=\"color: #00af00; text-decoration-color: #00af00\">64</span>)        │          <span style=\"color: #00af00; text-decoration-color: #00af00\">0</span> │ conv1d_2[<span style=\"color: #00af00; text-decoration-color: #00af00\">0</span>][<span style=\"color: #00af00; text-decoration-color: #00af00\">0</span>]    │\n",
       "│ (<span style=\"color: #0087ff; text-decoration-color: #0087ff\">GlobalAveragePool…</span> │                   │            │                   │\n",
       "├─────────────────────┼───────────────────┼────────────┼───────────────────┤\n",
       "│ dense (<span style=\"color: #0087ff; text-decoration-color: #0087ff\">Dense</span>)       │ (<span style=\"color: #00d7ff; text-decoration-color: #00d7ff\">None</span>, <span style=\"color: #00af00; text-decoration-color: #00af00\">32</span>)        │        <span style=\"color: #00af00; text-decoration-color: #00af00\">256</span> │ rr_features[<span style=\"color: #00af00; text-decoration-color: #00af00\">0</span>][<span style=\"color: #00af00; text-decoration-color: #00af00\">0</span>] │\n",
       "├─────────────────────┼───────────────────┼────────────┼───────────────────┤\n",
       "│ dropout (<span style=\"color: #0087ff; text-decoration-color: #0087ff\">Dropout</span>)   │ (<span style=\"color: #00d7ff; text-decoration-color: #00d7ff\">None</span>, <span style=\"color: #00af00; text-decoration-color: #00af00\">64</span>)        │          <span style=\"color: #00af00; text-decoration-color: #00af00\">0</span> │ global_average_p… │\n",
       "├─────────────────────┼───────────────────┼────────────┼───────────────────┤\n",
       "│ dropout_1 (<span style=\"color: #0087ff; text-decoration-color: #0087ff\">Dropout</span>) │ (<span style=\"color: #00d7ff; text-decoration-color: #00d7ff\">None</span>, <span style=\"color: #00af00; text-decoration-color: #00af00\">32</span>)        │          <span style=\"color: #00af00; text-decoration-color: #00af00\">0</span> │ dense[<span style=\"color: #00af00; text-decoration-color: #00af00\">0</span>][<span style=\"color: #00af00; text-decoration-color: #00af00\">0</span>]       │\n",
       "├─────────────────────┼───────────────────┼────────────┼───────────────────┤\n",
       "│ concatenate         │ (<span style=\"color: #00d7ff; text-decoration-color: #00d7ff\">None</span>, <span style=\"color: #00af00; text-decoration-color: #00af00\">96</span>)        │          <span style=\"color: #00af00; text-decoration-color: #00af00\">0</span> │ dropout[<span style=\"color: #00af00; text-decoration-color: #00af00\">0</span>][<span style=\"color: #00af00; text-decoration-color: #00af00\">0</span>],    │\n",
       "│ (<span style=\"color: #0087ff; text-decoration-color: #0087ff\">Concatenate</span>)       │                   │            │ dropout_1[<span style=\"color: #00af00; text-decoration-color: #00af00\">0</span>][<span style=\"color: #00af00; text-decoration-color: #00af00\">0</span>]   │\n",
       "├─────────────────────┼───────────────────┼────────────┼───────────────────┤\n",
       "│ dense_1 (<span style=\"color: #0087ff; text-decoration-color: #0087ff\">Dense</span>)     │ (<span style=\"color: #00d7ff; text-decoration-color: #00d7ff\">None</span>, <span style=\"color: #00af00; text-decoration-color: #00af00\">64</span>)        │      <span style=\"color: #00af00; text-decoration-color: #00af00\">6,208</span> │ concatenate[<span style=\"color: #00af00; text-decoration-color: #00af00\">0</span>][<span style=\"color: #00af00; text-decoration-color: #00af00\">0</span>] │\n",
       "├─────────────────────┼───────────────────┼────────────┼───────────────────┤\n",
       "│ dropout_2 (<span style=\"color: #0087ff; text-decoration-color: #0087ff\">Dropout</span>) │ (<span style=\"color: #00d7ff; text-decoration-color: #00d7ff\">None</span>, <span style=\"color: #00af00; text-decoration-color: #00af00\">64</span>)        │          <span style=\"color: #00af00; text-decoration-color: #00af00\">0</span> │ dense_1[<span style=\"color: #00af00; text-decoration-color: #00af00\">0</span>][<span style=\"color: #00af00; text-decoration-color: #00af00\">0</span>]     │\n",
       "├─────────────────────┼───────────────────┼────────────┼───────────────────┤\n",
       "│ logits (<span style=\"color: #0087ff; text-decoration-color: #0087ff\">Dense</span>)      │ (<span style=\"color: #00d7ff; text-decoration-color: #00d7ff\">None</span>, <span style=\"color: #00af00; text-decoration-color: #00af00\">2</span>)         │        <span style=\"color: #00af00; text-decoration-color: #00af00\">130</span> │ dropout_2[<span style=\"color: #00af00; text-decoration-color: #00af00\">0</span>][<span style=\"color: #00af00; text-decoration-color: #00af00\">0</span>]   │\n",
       "├─────────────────────┼───────────────────┼────────────┼───────────────────┤\n",
       "│ probs (<span style=\"color: #0087ff; text-decoration-color: #0087ff\">Activation</span>)  │ (<span style=\"color: #00d7ff; text-decoration-color: #00d7ff\">None</span>, <span style=\"color: #00af00; text-decoration-color: #00af00\">2</span>)         │          <span style=\"color: #00af00; text-decoration-color: #00af00\">0</span> │ logits[<span style=\"color: #00af00; text-decoration-color: #00af00\">0</span>][<span style=\"color: #00af00; text-decoration-color: #00af00\">0</span>]      │\n",
       "└─────────────────────┴───────────────────┴────────────┴───────────────────┘\n",
       "</pre>\n"
      ],
      "text/plain": [
       "┏━━━━━━━━━━━━━━━━━━━━━┳━━━━━━━━━━━━━━━━━━━┳━━━━━━━━━━━━┳━━━━━━━━━━━━━━━━━━━┓\n",
       "┃\u001b[1m \u001b[0m\u001b[1mLayer (type)       \u001b[0m\u001b[1m \u001b[0m┃\u001b[1m \u001b[0m\u001b[1mOutput Shape     \u001b[0m\u001b[1m \u001b[0m┃\u001b[1m \u001b[0m\u001b[1m   Param #\u001b[0m\u001b[1m \u001b[0m┃\u001b[1m \u001b[0m\u001b[1mConnected to     \u001b[0m\u001b[1m \u001b[0m┃\n",
       "┡━━━━━━━━━━━━━━━━━━━━━╇━━━━━━━━━━━━━━━━━━━╇━━━━━━━━━━━━╇━━━━━━━━━━━━━━━━━━━┩\n",
       "│ ecg_signal          │ (\u001b[38;5;45mNone\u001b[0m, \u001b[38;5;34m2560\u001b[0m, \u001b[38;5;34m1\u001b[0m)   │          \u001b[38;5;34m0\u001b[0m │ -                 │\n",
       "│ (\u001b[38;5;33mInputLayer\u001b[0m)        │                   │            │                   │\n",
       "├─────────────────────┼───────────────────┼────────────┼───────────────────┤\n",
       "│ conv1d (\u001b[38;5;33mConv1D\u001b[0m)     │ (\u001b[38;5;45mNone\u001b[0m, \u001b[38;5;34m2560\u001b[0m, \u001b[38;5;34m16\u001b[0m)  │        \u001b[38;5;34m128\u001b[0m │ ecg_signal[\u001b[38;5;34m0\u001b[0m][\u001b[38;5;34m0\u001b[0m]  │\n",
       "├─────────────────────┼───────────────────┼────────────┼───────────────────┤\n",
       "│ max_pooling1d       │ (\u001b[38;5;45mNone\u001b[0m, \u001b[38;5;34m640\u001b[0m, \u001b[38;5;34m16\u001b[0m)   │          \u001b[38;5;34m0\u001b[0m │ conv1d[\u001b[38;5;34m0\u001b[0m][\u001b[38;5;34m0\u001b[0m]      │\n",
       "│ (\u001b[38;5;33mMaxPooling1D\u001b[0m)      │                   │            │                   │\n",
       "├─────────────────────┼───────────────────┼────────────┼───────────────────┤\n",
       "│ conv1d_1 (\u001b[38;5;33mConv1D\u001b[0m)   │ (\u001b[38;5;45mNone\u001b[0m, \u001b[38;5;34m640\u001b[0m, \u001b[38;5;34m32\u001b[0m)   │      \u001b[38;5;34m7,712\u001b[0m │ max_pooling1d[\u001b[38;5;34m0\u001b[0m]… │\n",
       "├─────────────────────┼───────────────────┼────────────┼───────────────────┤\n",
       "│ max_pooling1d_1     │ (\u001b[38;5;45mNone\u001b[0m, \u001b[38;5;34m160\u001b[0m, \u001b[38;5;34m32\u001b[0m)   │          \u001b[38;5;34m0\u001b[0m │ conv1d_1[\u001b[38;5;34m0\u001b[0m][\u001b[38;5;34m0\u001b[0m]    │\n",
       "│ (\u001b[38;5;33mMaxPooling1D\u001b[0m)      │                   │            │                   │\n",
       "├─────────────────────┼───────────────────┼────────────┼───────────────────┤\n",
       "│ conv1d_2 (\u001b[38;5;33mConv1D\u001b[0m)   │ (\u001b[38;5;45mNone\u001b[0m, \u001b[38;5;34m160\u001b[0m, \u001b[38;5;34m64\u001b[0m)   │     \u001b[38;5;34m63,552\u001b[0m │ max_pooling1d_1[\u001b[38;5;34m…\u001b[0m │\n",
       "├─────────────────────┼───────────────────┼────────────┼───────────────────┤\n",
       "│ rr_features         │ (\u001b[38;5;45mNone\u001b[0m, \u001b[38;5;34m7\u001b[0m)         │          \u001b[38;5;34m0\u001b[0m │ -                 │\n",
       "│ (\u001b[38;5;33mInputLayer\u001b[0m)        │                   │            │                   │\n",
       "├─────────────────────┼───────────────────┼────────────┼───────────────────┤\n",
       "│ global_average_poo… │ (\u001b[38;5;45mNone\u001b[0m, \u001b[38;5;34m64\u001b[0m)        │          \u001b[38;5;34m0\u001b[0m │ conv1d_2[\u001b[38;5;34m0\u001b[0m][\u001b[38;5;34m0\u001b[0m]    │\n",
       "│ (\u001b[38;5;33mGlobalAveragePool…\u001b[0m │                   │            │                   │\n",
       "├─────────────────────┼───────────────────┼────────────┼───────────────────┤\n",
       "│ dense (\u001b[38;5;33mDense\u001b[0m)       │ (\u001b[38;5;45mNone\u001b[0m, \u001b[38;5;34m32\u001b[0m)        │        \u001b[38;5;34m256\u001b[0m │ rr_features[\u001b[38;5;34m0\u001b[0m][\u001b[38;5;34m0\u001b[0m] │\n",
       "├─────────────────────┼───────────────────┼────────────┼───────────────────┤\n",
       "│ dropout (\u001b[38;5;33mDropout\u001b[0m)   │ (\u001b[38;5;45mNone\u001b[0m, \u001b[38;5;34m64\u001b[0m)        │          \u001b[38;5;34m0\u001b[0m │ global_average_p… │\n",
       "├─────────────────────┼───────────────────┼────────────┼───────────────────┤\n",
       "│ dropout_1 (\u001b[38;5;33mDropout\u001b[0m) │ (\u001b[38;5;45mNone\u001b[0m, \u001b[38;5;34m32\u001b[0m)        │          \u001b[38;5;34m0\u001b[0m │ dense[\u001b[38;5;34m0\u001b[0m][\u001b[38;5;34m0\u001b[0m]       │\n",
       "├─────────────────────┼───────────────────┼────────────┼───────────────────┤\n",
       "│ concatenate         │ (\u001b[38;5;45mNone\u001b[0m, \u001b[38;5;34m96\u001b[0m)        │          \u001b[38;5;34m0\u001b[0m │ dropout[\u001b[38;5;34m0\u001b[0m][\u001b[38;5;34m0\u001b[0m],    │\n",
       "│ (\u001b[38;5;33mConcatenate\u001b[0m)       │                   │            │ dropout_1[\u001b[38;5;34m0\u001b[0m][\u001b[38;5;34m0\u001b[0m]   │\n",
       "├─────────────────────┼───────────────────┼────────────┼───────────────────┤\n",
       "│ dense_1 (\u001b[38;5;33mDense\u001b[0m)     │ (\u001b[38;5;45mNone\u001b[0m, \u001b[38;5;34m64\u001b[0m)        │      \u001b[38;5;34m6,208\u001b[0m │ concatenate[\u001b[38;5;34m0\u001b[0m][\u001b[38;5;34m0\u001b[0m] │\n",
       "├─────────────────────┼───────────────────┼────────────┼───────────────────┤\n",
       "│ dropout_2 (\u001b[38;5;33mDropout\u001b[0m) │ (\u001b[38;5;45mNone\u001b[0m, \u001b[38;5;34m64\u001b[0m)        │          \u001b[38;5;34m0\u001b[0m │ dense_1[\u001b[38;5;34m0\u001b[0m][\u001b[38;5;34m0\u001b[0m]     │\n",
       "├─────────────────────┼───────────────────┼────────────┼───────────────────┤\n",
       "│ logits (\u001b[38;5;33mDense\u001b[0m)      │ (\u001b[38;5;45mNone\u001b[0m, \u001b[38;5;34m2\u001b[0m)         │        \u001b[38;5;34m130\u001b[0m │ dropout_2[\u001b[38;5;34m0\u001b[0m][\u001b[38;5;34m0\u001b[0m]   │\n",
       "├─────────────────────┼───────────────────┼────────────┼───────────────────┤\n",
       "│ probs (\u001b[38;5;33mActivation\u001b[0m)  │ (\u001b[38;5;45mNone\u001b[0m, \u001b[38;5;34m2\u001b[0m)         │          \u001b[38;5;34m0\u001b[0m │ logits[\u001b[38;5;34m0\u001b[0m][\u001b[38;5;34m0\u001b[0m]      │\n",
       "└─────────────────────┴───────────────────┴────────────┴───────────────────┘\n"
      ]
     },
     "metadata": {},
     "output_type": "display_data"
    },
    {
     "data": {
      "text/html": [
       "<pre style=\"white-space:pre;overflow-x:auto;line-height:normal;font-family:Menlo,'DejaVu Sans Mono',consolas,'Courier New',monospace\"><span style=\"font-weight: bold\"> Total params: </span><span style=\"color: #00af00; text-decoration-color: #00af00\">77,986</span> (304.63 KB)\n",
       "</pre>\n"
      ],
      "text/plain": [
       "\u001b[1m Total params: \u001b[0m\u001b[38;5;34m77,986\u001b[0m (304.63 KB)\n"
      ]
     },
     "metadata": {},
     "output_type": "display_data"
    },
    {
     "data": {
      "text/html": [
       "<pre style=\"white-space:pre;overflow-x:auto;line-height:normal;font-family:Menlo,'DejaVu Sans Mono',consolas,'Courier New',monospace\"><span style=\"font-weight: bold\"> Trainable params: </span><span style=\"color: #00af00; text-decoration-color: #00af00\">77,986</span> (304.63 KB)\n",
       "</pre>\n"
      ],
      "text/plain": [
       "\u001b[1m Trainable params: \u001b[0m\u001b[38;5;34m77,986\u001b[0m (304.63 KB)\n"
      ]
     },
     "metadata": {},
     "output_type": "display_data"
    },
    {
     "data": {
      "text/html": [
       "<pre style=\"white-space:pre;overflow-x:auto;line-height:normal;font-family:Menlo,'DejaVu Sans Mono',consolas,'Courier New',monospace\"><span style=\"font-weight: bold\"> Non-trainable params: </span><span style=\"color: #00af00; text-decoration-color: #00af00\">0</span> (0.00 B)\n",
       "</pre>\n"
      ],
      "text/plain": [
       "\u001b[1m Non-trainable params: \u001b[0m\u001b[38;5;34m0\u001b[0m (0.00 B)\n"
      ]
     },
     "metadata": {},
     "output_type": "display_data"
    }
   ],
   "source": [
    "import tensorflow as tf\n",
    "from tensorflow.keras import layers, regularizers, Input, Model\n",
    "\n",
    "l2 = 1e-3\n",
    "dr = 0.3\n",
    "n_classes = Y['rhythm'].nunique()\n",
    "\n",
    "ecg_in = Input(shape=(2560,1), name=\"ecg_signal\") # 10s @256Hz\n",
    "rr_in  = Input(shape=(7,),    name=\"rr_features\") # 7 RR features\n",
    "\n",
    "# convolutional branch\n",
    "x = layers.Conv1D(16, 7, activation=\"relu\", padding=\"same\",\n",
    "                  kernel_regularizer=regularizers.l2(l2))(ecg_in)\n",
    "x = layers.MaxPool1D(4)(x)\n",
    "x = layers.Conv1D(32, 15, activation=\"relu\", padding=\"same\",\n",
    "                  kernel_regularizer=regularizers.l2(l2))(x)\n",
    "x = layers.MaxPool1D(4)(x)\n",
    "x = layers.Conv1D(64, 31, activation=\"relu\", padding=\"same\",\n",
    "                  kernel_regularizer=regularizers.l2(l2))(x)\n",
    "x = layers.GlobalAveragePooling1D()(x)\n",
    "x = layers.Dropout(dr)(x)\n",
    "\n",
    "# dense layer branch\n",
    "y = layers.Dense(32, activation=\"relu\",\n",
    "                 kernel_regularizer=regularizers.l2(l2))(rr_in)\n",
    "y = layers.Dropout(dr)(y)\n",
    "\n",
    "# concatenate the layers\n",
    "z = layers.Concatenate()([x,y])\n",
    "z = layers.Dense(64, activation=\"relu\",\n",
    "                 kernel_regularizer=regularizers.l2(l2))(z)\n",
    "z = layers.Dropout(dr)(z)\n",
    "logits = layers.Dense(n_classes, name=\"logits\")(z)\n",
    "probs  = layers.Activation(\"softmax\", name=\"probs\")(logits)\n",
    "\n",
    "model = Model([ecg_in, rr_in], probs)\n",
    "\n",
    "# compile before training\n",
    "model.compile(\n",
    "  optimizer=\"adam\",\n",
    "  loss=\"categorical_crossentropy\",\n",
    "  metrics=[\"accuracy\"]\n",
    ")\n",
    "\n",
    "model.summary()"
   ]
  },
  {
   "cell_type": "code",
   "execution_count": null,
   "id": "73e46225",
   "metadata": {
    "colab": {
     "base_uri": "https://localhost:8080/"
    },
    "executionInfo": {
     "elapsed": 30,
     "status": "ok",
     "timestamp": 1752541289327,
     "user": {
      "displayName": "Kyle Dudley",
      "userId": "05310552864591791788"
     },
     "user_tz": 300
    },
    "id": "73e46225",
    "outputId": "79f14ae9-6bec-4f25-db0a-aee16f61cfe2"
   },
   "outputs": [
    {
     "name": "stdout",
     "output_type": "stream",
     "text": [
      "Shape of y_train_cat: (25052, 2)\n",
      "Shape of y_test_cat: (2090, 2)\n"
     ]
    }
   ],
   "source": [
    "from keras.utils import to_categorical\n",
    "\n",
    "# here we are converting into 1hot encoded vector so we can use it in our model\n",
    "# because our model expect categorical target due to our loss function selection\n",
    "y_train_cat = to_categorical(y_train, num_classes=n_classes)\n",
    "y_test_cat = to_categorical(y_test, num_classes=n_classes)\n",
    "\n",
    "y_train_cat.shape, y_test_cat.shape"
   ]
  },
  {
   "cell_type": "code",
   "execution_count": null,
   "id": "079e4e31",
   "metadata": {
    "colab": {
     "base_uri": "https://localhost:8080/"
    },
    "executionInfo": {
     "elapsed": 82910,
     "status": "ok",
     "timestamp": 1752541372239,
     "user": {
      "displayName": "Kyle Dudley",
      "userId": "05310552864591791788"
     },
     "user_tz": 300
    },
    "id": "079e4e31",
    "outputId": "fe66e292-ebf2-47d4-ed0d-903922d93b9c"
   },
   "outputs": [
    {
     "name": "stdout",
     "output_type": "stream",
     "text": [
      "Epoch 1/50\n",
      "\u001b[1m783/783\u001b[0m \u001b[32m━━━━━━━━━━━━━━━━━━━━\u001b[0m\u001b[37m\u001b[0m \u001b[1m17s\u001b[0m 15ms/step - accuracy: 0.8476 - loss: 0.4503 - val_accuracy: 0.9211 - val_loss: 0.2752\n",
      "Epoch 2/50\n",
      "\u001b[1m783/783\u001b[0m \u001b[32m━━━━━━━━━━━━━━━━━━━━\u001b[0m\u001b[37m\u001b[0m \u001b[1m7s\u001b[0m 9ms/step - accuracy: 0.9542 - loss: 0.1945 - val_accuracy: 0.9474 - val_loss: 0.2062\n",
      "Epoch 3/50\n",
      "\u001b[1m783/783\u001b[0m \u001b[32m━━━━━━━━━━━━━━━━━━━━\u001b[0m\u001b[37m\u001b[0m \u001b[1m7s\u001b[0m 9ms/step - accuracy: 0.9598 - loss: 0.1717 - val_accuracy: 0.9297 - val_loss: 0.2390\n",
      "Epoch 4/50\n",
      "\u001b[1m783/783\u001b[0m \u001b[32m━━━━━━━━━━━━━━━━━━━━\u001b[0m\u001b[37m\u001b[0m \u001b[1m7s\u001b[0m 9ms/step - accuracy: 0.9634 - loss: 0.1557 - val_accuracy: 0.9507 - val_loss: 0.1874\n",
      "Epoch 5/50\n",
      "\u001b[1m783/783\u001b[0m \u001b[32m━━━━━━━━━━━━━━━━━━━━\u001b[0m\u001b[37m\u001b[0m \u001b[1m7s\u001b[0m 9ms/step - accuracy: 0.9692 - loss: 0.1391 - val_accuracy: 0.9646 - val_loss: 0.1413\n",
      "Epoch 6/50\n",
      "\u001b[1m783/783\u001b[0m \u001b[32m━━━━━━━━━━━━━━━━━━━━\u001b[0m\u001b[37m\u001b[0m \u001b[1m7s\u001b[0m 9ms/step - accuracy: 0.9644 - loss: 0.1404 - val_accuracy: 0.9598 - val_loss: 0.1637\n",
      "Epoch 7/50\n",
      "\u001b[1m783/783\u001b[0m \u001b[32m━━━━━━━━━━━━━━━━━━━━\u001b[0m\u001b[37m\u001b[0m \u001b[1m7s\u001b[0m 9ms/step - accuracy: 0.9713 - loss: 0.1281 - val_accuracy: 0.9593 - val_loss: 0.1622\n",
      "Epoch 8/50\n",
      "\u001b[1m783/783\u001b[0m \u001b[32m━━━━━━━━━━━━━━━━━━━━\u001b[0m\u001b[37m\u001b[0m \u001b[1m7s\u001b[0m 9ms/step - accuracy: 0.9704 - loss: 0.1226 - val_accuracy: 0.9536 - val_loss: 0.1758\n",
      "Epoch 9/50\n",
      "\u001b[1m783/783\u001b[0m \u001b[32m━━━━━━━━━━━━━━━━━━━━\u001b[0m\u001b[37m\u001b[0m \u001b[1m7s\u001b[0m 9ms/step - accuracy: 0.9714 - loss: 0.1214 - val_accuracy: 0.9569 - val_loss: 0.1630\n",
      "Epoch 10/50\n",
      "\u001b[1m783/783\u001b[0m \u001b[32m━━━━━━━━━━━━━━━━━━━━\u001b[0m\u001b[37m\u001b[0m \u001b[1m7s\u001b[0m 9ms/step - accuracy: 0.9721 - loss: 0.1205 - val_accuracy: 0.9589 - val_loss: 0.1564\n"
     ]
    }
   ],
   "source": [
    "# train our model with early return if validation loss is not improving over time\n",
    "# this balances accuracy with training time tradeoff\n",
    "history = model.fit(\n",
    "  x=[X_train, RR_train],\n",
    "  y=y_train_cat,\n",
    "  validation_data=([X_test, RR_test], y_test_cat),\n",
    "  batch_size=32,\n",
    "  epochs=50,\n",
    "  callbacks=[tf.keras.callbacks.EarlyStopping(\"val_loss\", patience=5, restore_best_weights=True)]\n",
    ")"
   ]
  },
  {
   "cell_type": "markdown",
   "id": "65EY_D9RXBrU",
   "metadata": {
    "id": "65EY_D9RXBrU"
   },
   "source": [
    "## Training results"
   ]
  },
  {
   "cell_type": "code",
   "execution_count": null,
   "id": "2190e0e9",
   "metadata": {
    "colab": {
     "base_uri": "https://localhost:8080/",
     "height": 1000
    },
    "executionInfo": {
     "elapsed": 378,
     "status": "ok",
     "timestamp": 1752541372620,
     "user": {
      "displayName": "Kyle Dudley",
      "userId": "05310552864591791788"
     },
     "user_tz": 300
    },
    "id": "2190e0e9",
    "outputId": "cb212995-909b-46f8-f1ee-155625ea90ba"
   },
   "outputs": [
    {
     "data": {
      "image/png": "[encoded data removed]",
      "text/plain": [
       "<Figure size 1200x600 with 1 Axes>"
      ]
     },
     "metadata": {},
     "output_type": "display_data"
    },
    {
     "data": {
      "image/png": "[encoded data removed]",
      "text/plain": [
       "<Figure size 1200x600 with 1 Axes>"
      ]
     },
     "metadata": {},
     "output_type": "display_data"
    }
   ],
   "source": [
    "# plot training and validation loss curves\n",
    "plt.figure(figsize=(10, 5))\n",
    "plt.plot(history.history['loss'], label='training')\n",
    "plt.plot(history.history['val_loss'], label='validation')\n",
    "plt.title('Loss')\n",
    "plt.xlabel('epoch')\n",
    "plt.ylabel('loss')\n",
    "plt.legend()\n",
    "plt.grid(True)\n",
    "plt.show()\n",
    "\n",
    "# plot training and validation accuracy curves\n",
    "plt.figure(figsize=(10, 5))\n",
    "plt.plot(history.history['accuracy'], label='training')\n",
    "plt.plot(history.history['val_accuracy'], label='validaion')\n",
    "plt.title('Accuracy')\n",
    "plt.xlabel('epoch')\n",
    "plt.ylabel('accuracy')\n",
    "plt.legend()\n",
    "plt.grid(True)\n",
    "plt.show()"
   ]
  },
  {
   "cell_type": "code",
   "execution_count": null,
   "id": "c3c1841a",
   "metadata": {
    "colab": {
     "base_uri": "https://localhost:8080/",
     "height": 581
    },
    "executionInfo": {
     "elapsed": 1472,
     "status": "ok",
     "timestamp": 1752541374096,
     "user": {
      "displayName": "Kyle Dudley",
      "userId": "05310552864591791788"
     },
     "user_tz": 300
    },
    "id": "c3c1841a",
    "outputId": "9d284563-e64d-45a4-9822-bebc2a1b0cac"
   },
   "outputs": [
    {
     "name": "stdout",
     "output_type": "stream",
     "text": [
      "\u001b[1m66/66\u001b[0m \u001b[32m━━━━━━━━━━━━━━━━━━━━\u001b[0m\u001b[37m\u001b[0m \u001b[1m1s\u001b[0m 7ms/step\n"
     ]
    },
    {
     "data": {
      "image/png": "[encoded data removed]",
      "text/plain": [
       "<Figure size 800x600 with 2 Axes>"
      ]
     },
     "metadata": {},
     "output_type": "display_data"
    }
   ],
   "source": [
    "from sklearn.metrics import confusion_matrix\n",
    "import seaborn as sns\n",
    "import matplotlib.pyplot as plt\n",
    "import numpy as np\n",
    "\n",
    "# get predictions for the test set\n",
    "y_pred_cat = model.predict([X_test, RR_test])\n",
    "#y_pred_cat = model.predict(RR_test)\n",
    "\n",
    "# convert 1hot to class labels\n",
    "y_pred = np.argmax(y_pred_cat, axis=1)\n",
    "\n",
    "# generate confusion matrix\n",
    "cm = confusion_matrix(y_test, y_pred)\n",
    "\n",
    "# plot confusion matrix\n",
    "plt.figure(figsize=(8, 6))\n",
    "sns.heatmap(\n",
    "    cm,\n",
    "    annot=True,\n",
    "    fmt='d',\n",
    "    cmap='Blues',\n",
    "    xticklabels=le.classes_,\n",
    "    yticklabels=le.classes_\n",
    ")\n",
    "plt.xlabel('predicted')\n",
    "plt.ylabel('true')\n",
    "plt.show()"
   ]
  },
  {
   "cell_type": "markdown",
   "id": "rbn1CaKikNqg",
   "metadata": {
    "id": "rbn1CaKikNqg"
   },
   "source": [
    "As you can see from our confusion matrix, we have quite the performant model. There are clearly some false positives for AFib. This could be improved on, however it's arguably fine to leave this as well. In a medical context, it is safer to false flag AFib than leave it undetected.\n",
    "\n",
    "What really matters here is that the recall for AFib is fantastic, nearly 98%. This makes sure we almost never miss an AFib rhythm, leading to higher diagnoses. Missing an AFib rhythm is risky, as the implications of AFib include stroke, heart failure, coronary artery disease, high blood pressure, and valve problems."
   ]
  },
  {
   "cell_type": "markdown",
   "id": "Y0m62d4mXZUh",
   "metadata": {
    "id": "Y0m62d4mXZUh"
   },
   "source": [
    "# Part 4: Save quantized model for MCU deployment\n",
    "\n",
    "It's important to quantize the model to deploy on the MCU because it will reduce the flash and RAM footprint and fit within the size constraints of the MCU. It will also speed up inference since integer math is more efficient."
   ]
  },
  {
   "cell_type": "code",
   "execution_count": null,
   "id": "f2nw0ste1SD_",
   "metadata": {
    "colab": {
     "base_uri": "https://localhost:8080/"
    },
    "executionInfo": {
     "elapsed": 1203,
     "status": "ok",
     "timestamp": 1752541375491,
     "user": {
      "displayName": "Kyle Dudley",
      "userId": "05310552864591791788"
     },
     "user_tz": 300
    },
    "id": "f2nw0ste1SD_",
    "outputId": "154a7c9c-26d8-4642-934a-8cb69b6800d4"
   },
   "outputs": [
    {
     "name": "stdout",
     "output_type": "stream",
     "text": [
      "Saved artifact at '/tmp/tmp1l43ve58'. The following endpoints are available:\n",
      "\n",
      "* Endpoint 'serve'\n",
      "  args_0 (POSITIONAL_ONLY): List[TensorSpec(shape=(None, 2560, 1), dtype=tf.float32, name='ecg_signal'), TensorSpec(shape=(None, 7), dtype=tf.float32, name='rr_features')]\n",
      "Output Type:\n",
      "  TensorSpec(shape=(None, 2), dtype=tf.float32, name=None)\n",
      "Captures:\n",
      "  132183909482576: TensorSpec(shape=(), dtype=tf.resource, name=None)\n",
      "  132184063737296: TensorSpec(shape=(), dtype=tf.resource, name=None)\n",
      "  132183909486800: TensorSpec(shape=(), dtype=tf.resource, name=None)\n",
      "  132183909485456: TensorSpec(shape=(), dtype=tf.resource, name=None)\n",
      "  132183909489296: TensorSpec(shape=(), dtype=tf.resource, name=None)\n",
      "  132183909487568: TensorSpec(shape=(), dtype=tf.resource, name=None)\n",
      "  132183909489488: TensorSpec(shape=(), dtype=tf.resource, name=None)\n",
      "  132183909491024: TensorSpec(shape=(), dtype=tf.resource, name=None)\n",
      "  132183909491216: TensorSpec(shape=(), dtype=tf.resource, name=None)\n",
      "  132183909492560: TensorSpec(shape=(), dtype=tf.resource, name=None)\n",
      "  132183909491984: TensorSpec(shape=(), dtype=tf.resource, name=None)\n",
      "  132183909494096: TensorSpec(shape=(), dtype=tf.resource, name=None)\n"
     ]
    },
    {
     "name": "stderr",
     "output_type": "stream",
     "text": [
      "/usr/local/lib/python3.11/dist-packages/tensorflow/lite/python/convert.py:997: UserWarning: Statistics for quantized inputs were expected, but not specified; continuing anyway.\n",
      "  warnings.warn(\n"
     ]
    },
    {
     "name": "stdout",
     "output_type": "stream",
     "text": [
      "✅ Quantized TFLite model written to afib_detector_int8.tflite\n"
     ]
    }
   ],
   "source": [
    "import tensorflow as tf\n",
    "import numpy as np\n",
    "\n",
    "# clear session to be safe\n",
    "tf.keras.backend.clear_session()\n",
    "\n",
    "# make representative dataset generator\n",
    "def representative_dataset():\n",
    "    for ecg_batch, rr_batch in zip(X_train[:100], RR_train[:100]):\n",
    "        ecg = np.expand_dims(ecg_batch, axis=0).astype(np.float32)\n",
    "        rr  = np.expand_dims(rr_batch,  axis=0).astype(np.float32)\n",
    "        yield {\n",
    "          \"ecg_signal\": ecg,\n",
    "          \"rr_features\": rr\n",
    "        }\n",
    "\n",
    "# set up the converter\n",
    "converter = tf.lite.TFLiteConverter.from_keras_model(model)\n",
    "converter.optimizations = [tf.lite.Optimize.DEFAULT]\n",
    "converter.representative_dataset = representative_dataset\n",
    "\n",
    "# quantization for both weights and activations\n",
    "converter.target_spec.supported_ops    = [tf.lite.OpsSet.TFLITE_BUILTINS_INT8]\n",
    "converter.inference_input_type         = tf.int8\n",
    "converter.inference_output_type        = tf.int8\n",
    "\n",
    "# save model\n",
    "tflite_model = converter.convert()\n",
    "with open(\"afib_detector_int8.tflite\", \"wb\") as f:\n",
    "    f.write(tflite_model)\n",
    "\n",
    "print(\"model saved\")"
   ]
  }
 ],
 "metadata": {
  "accelerator": "GPU",
  "colab": {
   "gpuType": "T4",
   "machine_shape": "hm",
   "provenance": []
  },
  "kernelspec": {
   "display_name": "Python 3",
   "name": "python3"
  },
  "language_info": {
   "codemirror_mode": {
    "name": "ipython",
    "version": 3
   },
   "file_extension": ".py",
   "mimetype": "text/x-python",
   "name": "python",
   "nbconvert_exporter": "python",
   "pygments_lexer": "ipython3",
   "version": "3.12.10"
  }
 },
 "nbformat": 4,
 "nbformat_minor": 5
}
